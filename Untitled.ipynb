{
 "cells": [
  {
   "cell_type": "code",
   "execution_count": 1,
   "id": "03e4f8df",
   "metadata": {},
   "outputs": [],
   "source": [
    "import numpy as np\n",
    "import torch\n",
    "import torch.nn as nn\n",
    "\n",
    "from torch import optim\n",
    "from model import unet\n"
   ]
  },
  {
   "cell_type": "code",
   "execution_count": 9,
   "id": "3c2b8a3d",
   "metadata": {},
   "outputs": [
    {
     "data": {
      "text/plain": [
       "tensor([[[[0.2725, 0.3659, 0.5692,  ..., 0.9715, 0.5074, 0.8322],\n",
       "          [0.0664, 0.2985, 0.0798,  ..., 0.0752, 0.9377, 0.4994],\n",
       "          [0.3014, 0.4909, 0.0362,  ..., 0.7671, 0.9304, 0.2729],\n",
       "          ...,\n",
       "          [0.8790, 0.1948, 0.2393,  ..., 0.2841, 0.8700, 0.1335],\n",
       "          [0.1901, 0.1557, 0.5572,  ..., 0.7468, 0.1214, 0.4427],\n",
       "          [0.4118, 0.7646, 0.9415,  ..., 0.2560, 0.9110, 0.7188]]]])"
      ]
     },
     "execution_count": 9,
     "metadata": {},
     "output_type": "execute_result"
    }
   ],
   "source": [
    "image = torch.rand((1,1,572,572))\n",
    "image"
   ]
  }
 ],
 "metadata": {
  "kernelspec": {
   "display_name": "Python 3",
   "language": "python",
   "name": "python3"
  },
  "language_info": {
   "codemirror_mode": {
    "name": "ipython",
    "version": 3
   },
   "file_extension": ".py",
   "mimetype": "text/x-python",
   "name": "python",
   "nbconvert_exporter": "python",
   "pygments_lexer": "ipython3",
   "version": "3.9.2"
  }
 },
 "nbformat": 4,
 "nbformat_minor": 5
}
